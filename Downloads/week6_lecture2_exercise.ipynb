{
 "cells": [
  {
   "cell_type": "code",
   "execution_count": 3,
   "id": "e641565f",
   "metadata": {},
   "outputs": [
    {
     "name": "stdout",
     "output_type": "stream",
     "text": [
      "Capital letters: ['HTML', 'CSS', 'N', 'P', 'L']\n"
     ]
    }
   ],
   "source": [
    "'''\n",
    "practice Unit 1.1\n",
    "'''\n",
    "import re\n",
    "\n",
    "# Find all capital letters in text \n",
    "text = \"HTML and CSS are Not Programming Languages\" \n",
    "pattern = r\"[A-Z]+\"  # Fill in pattern for capital letters \n",
    " \n",
    "capitals = re.findall(pattern, text) \n",
    "print(f\"Capital letters: {capitals}\")"
   ]
  },
  {
   "cell_type": "code",
   "execution_count": 23,
   "id": "702cee0c",
   "metadata": {},
   "outputs": [
    {
     "name": "stdout",
     "output_type": "stream",
     "text": [
      "['hello', 'hi there']\n"
     ]
    }
   ],
   "source": [
    "'''\n",
    "practice Unit 1.2\n",
    "'''\n",
    "# Extract all quoted strings from text \n",
    "text = 'He said \"hello\" and she replied \"hi there\" quietly'\n",
    "# Write pattern to extract text between quotes\n",
    "pattern = r'\"(.*?)\"'\n",
    "match = re.findall(pattern,text)\n",
    "print(match)\n",
    "# Expected: ['hello', 'hi there']"
   ]
  },
  {
   "cell_type": "code",
   "execution_count": 5,
   "id": "0916d48a",
   "metadata": {},
   "outputs": [
    {
     "name": "stdout",
     "output_type": "stream",
     "text": [
      "Level: [INFO] Timestamp: 2024-01-15 Message:  10:30:15 - Server started\n",
      "\n",
      "Level: [ERROR] Timestamp: 2024-01-15 Message:  10:35:22 - Connection failed\n",
      "\n",
      "Level: [WARNING] Timestamp: 2024-01-15 Message:  10:40:00 - High memory usage\n",
      "\n"
     ]
    }
   ],
   "source": [
    "'''\n",
    "practice Unit 1.3\n",
    "'''\n",
    "# Parse log entries: [LEVEL] timestamp - message \n",
    "log = \"\"\" \n",
    "[INFO] 2024-01-15 10:30:15 - Server started \n",
    "[ERROR] 2024-01-15 10:35:22 - Connection failed \n",
    "[WARNING] 2024-01-15 10:40:00 - High memory usage \n",
    "\"\"\"\n",
    "# Extract level, timestamp, and message for each entry\n",
    "#pattern = r'\\[\\w+\\] \\d{4}-\\d{2}-\\d{2} - \\w+\\s+'\n",
    "pattern = r'(\\[\\w+\\]) (\\d{4}-\\d{2}-\\d{2})(.+?)\\s\\n'\n",
    "# Return list of tuples\n",
    "matches = re.findall(pattern, log)\n",
    "for match in matches:\n",
    "    print(f\"Level: {match[0]} Timestamp: {match[1]} Message: {match[2]}\\n\")"
   ]
  },
  {
   "cell_type": "code",
   "execution_count": 29,
   "id": "e1a9e348",
   "metadata": {},
   "outputs": [
    {
     "name": "stdout",
     "output_type": "stream",
     "text": [
      "Matched Word: The    Start Position: 0\n",
      "Matched Word: quick    Start Position: 4\n",
      "Matched Word: brown    Start Position: 10\n",
      "Matched Word: fox    Start Position: 16\n"
     ]
    }
   ],
   "source": [
    "'''\n",
    "practice unit 2.1\n",
    "'''\n",
    "# Find all words and their positions \n",
    "text = \"The quick brown fox\" \n",
    "pattern = r\"\\w+\" \n",
    " \n",
    "# Use finditer to print each word and where it starts\n",
    "for match in re.finditer(pattern, text): \n",
    "    # Print word and starting position \n",
    "    start = match.start()\n",
    "    print(f\"Matched Word: {match.group()}    Start Position: {start}\")\n",
    "    "
   ]
  },
  {
   "cell_type": "code",
   "execution_count": 41,
   "id": "92a7a70e",
   "metadata": {},
   "outputs": [
    {
     "name": "stdout",
     "output_type": "stream",
     "text": [
      "0\n",
      "1\n",
      "2\n"
     ]
    }
   ],
   "source": [
    "'''\n",
    "practice unit 2.2\n",
    "'''\n",
    "# Find overlapping patterns (findall can't do this) \n",
    "text = \"aaaa\"\n",
    "# Find all occurrences of \"aa\" including overlaps\n",
    "pattern = r'a(?=.*[a-z])'\n",
    "for match in re.finditer(pattern, text):\n",
    "    print(match.start())\n",
    "# Hint: Use lookahead (?=...) with finditer\n",
    "# Expected positions: 0, 1, 2"
   ]
  },
  {
   "cell_type": "code",
   "execution_count": null,
   "id": "7c650dae",
   "metadata": {},
   "outputs": [
    {
     "name": "stdout",
     "output_type": "stream",
     "text": [
      "{'the': [24], 'cat': [4], 'and': [20], 'dog': [16], 'bird': [28]}\n",
      "<re.Match object; span=(28, 32), match='bird'>\n"
     ]
    }
   ],
   "source": [
    "'''\n",
    "practice unit 2.3\n",
    "'''\n",
    "# Build a concordance (word index with positions) \n",
    "text = \"the cat and the dog and the bird\"\n",
    "# Create a dictionary: word -> list of positions\n",
    "pattern = r'\\b\\w+\\b'\n",
    "# Example: {'the': [0, 12, 24], 'cat': [4], ...}\n",
    "concordance = {} \n",
    "# Use finditer to build the concordance\n",
    "for match in re.finditer(pattern, text):\n",
    "    position = []\n",
    "    position.append(match.start())\n",
    "    concordance[match.group()] = position\n",
    "print(concordance)"
   ]
  },
  {
   "cell_type": "code",
   "execution_count": 57,
   "id": "01d85c88",
   "metadata": {},
   "outputs": [
    {
     "name": "stdout",
     "output_type": "stream",
     "text": [
      "Snake case: Convert_this_to_snake_case\n"
     ]
    }
   ],
   "source": [
    "'''\n",
    "practice unit 3.1\n",
    "'''\n",
    "# Replace all spaces with underscores \n",
    "text = \"Convert this to snake case\" \n",
    "pattern = r\"\\s+\"  # Fill in pattern for space \n",
    "replacement = \"_\"  # Fill in replacement \n",
    " \n",
    "result = re.sub(pattern, replacement, text) \n",
    "print(f\"Snake case: {result}\")"
   ]
  },
  {
   "cell_type": "code",
   "execution_count": 58,
   "id": "3d43248c",
   "metadata": {},
   "outputs": [
    {
     "name": "stdout",
     "output_type": "stream",
     "text": [
      "Contact j***@example.com or m***@company.org\n"
     ]
    }
   ],
   "source": [
    "'''\n",
    "practice unit 3.2\n",
    "'''\n",
    "# Mask email addresses (keep first letter and domain) \n",
    "text = \"Contact john@example.com or mary@company.org\"\n",
    "# Replace middle part with ***\n",
    "pattern = r'(\\w)(\\w+)(@\\w+)(\\.\\w{3})'\n",
    "replacement = \"***\"\n",
    "result = re.sub(pattern, r'\\1***\\3\\4', text)\n",
    "print(result)\n",
    "# Expected: \"Contact j***@example.com or m***@company.org\""
   ]
  },
  {
   "cell_type": "code",
   "execution_count": 84,
   "id": "f9a7b61e",
   "metadata": {},
   "outputs": [
    {
     "name": "stdout",
     "output_type": "stream",
     "text": [
      "Check <a href=\"https://google.com\">[Google]</a> and <a href=\"https://github.com\">[GitHub]</a>\n"
     ]
    }
   ],
   "source": [
    "'''\n",
    "practice unit 3.3\n",
    "'''\n",
    "# Convert markdown links to HTML \n",
    "text = \"Check [Google](https://google.com) and [GitHub](https://github.com)\"\n",
    "# Convert [text](url) to <a href=\"url\">text</a>\n",
    "pattern = r'(\\[\\w+\\])\\((https?://\\w+\\.\\w{3})\\)'\n",
    "# Use groups and backreferences\n",
    "result = re.sub(pattern, r'<a href=\"\\2\">\\1</a>', text)\n",
    "print(result)"
   ]
  },
  {
   "cell_type": "code",
   "execution_count": 91,
   "id": "89bda746",
   "metadata": {},
   "outputs": [
    {
     "name": "stdout",
     "output_type": "stream",
     "text": [
      "C-words: ['cat', 'chased', 'clever', 'carefully']\n"
     ]
    }
   ],
   "source": [
    "'''\n",
    "practice unit 4.1\n",
    "'''\n",
    "# Compile a pattern to find all words starting with 'c' \n",
    "pattern = re.compile(r\"c\\w+\")  # Fill in pattern \n",
    " \n",
    "text = \"The cat chased the clever mouse carefully\" \n",
    "matches = pattern.findall(text)  # Use compiled pattern \n",
    "print(f\"C-words: {matches}\") "
   ]
  },
  {
   "cell_type": "code",
   "execution_count": 108,
   "id": "27b457f6",
   "metadata": {},
   "outputs": [
    {
     "name": "stdout",
     "output_type": "stream",
     "text": [
      "['example@email.com']\n",
      "None\n"
     ]
    }
   ],
   "source": [
    "'''\n",
    "practice unit 4.2\n",
    "'''\n",
    "# Create a validation class with compiled patterns\n",
    "class Validator: \n",
    "    # Compile patterns for email, phone, and zip code \n",
    "    EMAIL = re.compile(r\"[\\w.-]+@[\\w.-]+\\.\\w+\")  # Valid email pattern \n",
    "    PHONE = re.compile(r\"\\(?\\d{3}\\)?[-.]?\\d{3}[-.]?\\d{4}\")  # 10-digit phone \n",
    "    ZIP = re.compile(r\"\\b\\d{5}\\b\")    # 5-digit zip code \n",
    " \n",
    "@staticmethod \n",
    "def is_valid_email(text): \n",
    "    # Use EMAIL pattern\n",
    "    email = Validator.EMAIL.findall(text) \n",
    "    print(email)\n",
    "# Test the validator\n",
    "text = \"example@email.com\"\n",
    "print(is_valid_email(text))"
   ]
  },
  {
   "cell_type": "code",
   "execution_count": null,
   "id": "0fd2b380",
   "metadata": {},
   "outputs": [
    {
     "ename": "NameError",
     "evalue": "name 'self' is not defined",
     "output_type": "error",
     "traceback": [
      "\u001b[31m---------------------------------------------------------------------------\u001b[39m",
      "\u001b[31mNameError\u001b[39m                                 Traceback (most recent call last)",
      "\u001b[36mCell\u001b[39m\u001b[36m \u001b[39m\u001b[32mIn[1]\u001b[39m\u001b[32m, line 5\u001b[39m\n\u001b[32m      1\u001b[39m \u001b[33;03m'''\u001b[39;00m\n\u001b[32m      2\u001b[39m \u001b[33;03mpractice unit 4.3\u001b[39;00m\n\u001b[32m      3\u001b[39m \u001b[33;03m'''\u001b[39;00m\n\u001b[32m      4\u001b[39m \u001b[38;5;66;03m# Create a text processor with multiple compiled patterns\u001b[39;00m\n\u001b[32m----> \u001b[39m\u001b[32m5\u001b[39m \u001b[38;5;28;43;01mclass\u001b[39;49;00m\u001b[38;5;250;43m \u001b[39;49m\u001b[34;43;01mTextProcessor\u001b[39;49;00m\u001b[43m:\u001b[49m\u001b[43m \u001b[49m\n\u001b[32m      6\u001b[39m \u001b[43m    \u001b[49m\u001b[38;5;28;43;01mdef\u001b[39;49;00m\u001b[38;5;250;43m \u001b[39;49m\u001b[34;43m__init__\u001b[39;49m\u001b[43m(\u001b[49m\u001b[38;5;28;43mself\u001b[39;49m\u001b[43m)\u001b[49m\u001b[43m:\u001b[49m\u001b[43m \u001b[49m\n\u001b[32m      7\u001b[39m \u001b[43m        \u001b[49m\u001b[38;5;66;43;03m# Compile patterns for: \u001b[39;49;00m\n\u001b[32m      8\u001b[39m \u001b[43m        \u001b[49m\u001b[38;5;66;43;03m# - URLs to links \u001b[39;49;00m\n\u001b[32m      9\u001b[39m \u001b[43m        \u001b[49m\u001b[38;5;66;43;03m# - Emails to masked \u001b[39;49;00m\n\u001b[32m     10\u001b[39m \u001b[43m        \u001b[49m\u001b[38;5;66;43;03m# - Phone numbers to formatted \u001b[39;49;00m\n\u001b[32m     11\u001b[39m \u001b[43m        \u001b[49m\u001b[38;5;28;43mself\u001b[39;49m\u001b[43m.\u001b[49m\u001b[43mURL\u001b[49m\u001b[43m \u001b[49m\u001b[43m=\u001b[49m\u001b[43m \u001b[49m\u001b[43mre\u001b[49m\u001b[43m.\u001b[49m\u001b[43mcompile\u001b[49m\u001b[43m(\u001b[49m\u001b[33;43mr\u001b[39;49m\u001b[33;43m'\u001b[39;49m\u001b[33;43m(\u001b[39;49m\u001b[33;43m\\\u001b[39;49m\u001b[33;43m[\u001b[39;49m\u001b[33;43m\\\u001b[39;49m\u001b[33;43mw+\u001b[39;49m\u001b[33;43m\\\u001b[39;49m\u001b[33;43m])\u001b[39;49m\u001b[33;43m\\\u001b[39;49m\u001b[33;43m((https?://\u001b[39;49m\u001b[33;43m\\\u001b[39;49m\u001b[33;43mw+\u001b[39;49m\u001b[33;43m\\\u001b[39;49m\u001b[33;43m.\u001b[39;49m\u001b[33;43m\\\u001b[39;49m\u001b[33;43mw\u001b[39;49m\u001b[38;5;132;43;01m{3}\u001b[39;49;00m\u001b[33;43m)\u001b[39;49m\u001b[33;43m\\\u001b[39;49m\u001b[33;43m)\u001b[39;49m\u001b[33;43m'\u001b[39;49m\u001b[43m)\u001b[49m\n",
      "\u001b[36mCell\u001b[39m\u001b[36m \u001b[39m\u001b[32mIn[1]\u001b[39m\u001b[32m, line 24\u001b[39m, in \u001b[36mTextProcessor\u001b[39m\u001b[34m()\u001b[39m\n\u001b[32m     22\u001b[39m \u001b[38;5;66;03m# Process: \"Call 5551234567 or email user@test.com\"\u001b[39;00m\n\u001b[32m     23\u001b[39m     text = \u001b[33m\"\u001b[39m\u001b[33mCall 5551234567 or email user@test.com\u001b[39m\u001b[33m\"\u001b[39m\n\u001b[32m---> \u001b[39m\u001b[32m24\u001b[39m     \u001b[38;5;28mprint\u001b[39m(process(\u001b[38;5;28;43mself\u001b[39;49m, text))\n",
      "\u001b[31mNameError\u001b[39m: name 'self' is not defined"
     ]
    }
   ],
   "source": [
    "'''\n",
    "practice unit 4.3\n",
    "'''\n",
    "# Create a text processor with multiple compiled patterns\n",
    "class TextProcessor: \n",
    "    def __init__(self): \n",
    "        # Compile patterns for: \n",
    "        # - URLs to links \n",
    "        # - Emails to masked \n",
    "        # - Phone numbers to formatted \n",
    "        self.URL = re.compile(r'(\\[\\w+\\])\\((https?://\\w+\\.\\w{3})\\)')\n",
    "        self.EMAIL = re.compile(r'[\\w.-]+@[\\w.-]+\\.\\w{3}')\n",
    "        self.PHONE = re.compile(r'(\\(?\\d{3}\\)?)[-.]?(\\d{3})[-.]?(\\d{4})')\n",
    " \n",
    "    def process(self, text): \n",
    "        # Apply all transformations \n",
    "        result = re.sub(self.URL, r'<a href=\"\\2\">\\1</a>', text)\n",
    "        result = re.sub(self.EMAIL, r'********', text)\n",
    "        result = re.sub(self.PHONE, r'\\1-\\2-\\3', text)\n",
    "        return result\n",
    "    \n",
    "# Process: \"Call 5551234567 or email user@test.com\"\n",
    "    text = \"Call 5551234567 or email user@test.com\"\n",
    "    print(process(self, text))  "
   ]
  },
  {
   "cell_type": "code",
   "execution_count": 15,
   "id": "df83d73e",
   "metadata": {},
   "outputs": [],
   "source": [
    "'''\n",
    "practice unit 5.1\n",
    "'''\n",
    "# Compare compiled vs non-compiled pattern performance \n",
    "text = \"The quick brown fox jumps over the lazy dog\" * 100 \n",
    " \n",
    "# Test finding all words\n",
    "# 1. Use re.findall without compilation\n",
    "# 2. Use compiled pattern\n",
    "# 3. Compare times for 1000 iterations"
   ]
  },
  {
   "cell_type": "code",
   "execution_count": 16,
   "id": "acb0e5e5",
   "metadata": {},
   "outputs": [],
   "source": [
    "'''\n",
    "practice unit 5.2\n",
    "'''\n",
    "# Optimize this inefficient pattern \n",
    "bad_pattern = r\".*@.*\\..*\"  # Email matching \n",
    " \n",
    "# Rewrite to be more efficient:\n",
    "# - Be more specific\n",
    "# - Avoid .* where possible\n",
    "# - Use character classes"
   ]
  },
  {
   "cell_type": "code",
   "execution_count": 17,
   "id": "132e6d0c",
   "metadata": {},
   "outputs": [],
   "source": [
    "'''\n",
    "practice unit 5.3\n",
    "'''\n",
    "# Create an efficient email validator\n",
    "def validate_emails_efficient(email_list): \n",
    "    \"\"\" \n",
    "    Validate a list of emails efficiently \n",
    "    - Compile pattern once \n",
    "    - Use specific pattern \n",
    "    - Return dict: email -> is_valid \n",
    "    \"\"\" \n",
    "    pass \n",
    " \n",
    "# Test with 10000 emails \n",
    "test_emails = [f\"user{i}@example.com\" for i in range(10000)] "
   ]
  },
  {
   "cell_type": "code",
   "execution_count": 18,
   "id": "bb76d675",
   "metadata": {},
   "outputs": [],
   "source": [
    "'''\n",
    "practice unit 6.1\n",
    "'''\n",
    "# Rewrite this pattern using verbose mode with comments \n",
    "pattern = r\"^\\d{3}-\\d{2}-\\d{4}$\"  # SSN format \n",
    " \n",
    "# Rewrite with re.VERBOSE and helpful comments \n",
    "verbose_pattern = re.compile(r\"\"\" \n",
    "                                # Add your pattern here with comments \n",
    "                             \"\"\", re.VERBOSE)"
   ]
  },
  {
   "cell_type": "code",
   "execution_count": 19,
   "id": "8b231345",
   "metadata": {},
   "outputs": [],
   "source": [
    "'''\n",
    "practice unit 6-2\n",
    "'''\n",
    "# Optimize this inefficient pattern\n",
    "bad_pattern = r\".*@.*\\..*\"  # Email matching\n",
    "\n",
    "# Rewrite to be more efficient:\n",
    "# - Be more specific\n",
    "# - Avoid .* where possible\n",
    "# - Use character classes"
   ]
  },
  {
   "cell_type": "code",
   "execution_count": 20,
   "id": "eeefa05b",
   "metadata": {},
   "outputs": [],
   "source": [
    "'''\n",
    "practice unit 6-3\n",
    "'''\n",
    "# Create an efficient email validator\n",
    "def validate_emails_efficient(email_list):\n",
    "    \"\"\"\n",
    "    Validate a list of emails efficiently\n",
    "    - Compile pattern once\n",
    "    - Use specific pattern\n",
    "    - Return dict: email -> is_valid\n",
    "    \"\"\"\n",
    "    pass\n",
    "\n",
    "# Test with 10000 emails\n",
    "test_emails = [f\"user{i}@example.com\" for i in range(10000)]"
   ]
  }
 ],
 "metadata": {
  "kernelspec": {
   "display_name": "Python 3",
   "language": "python",
   "name": "python3"
  },
  "language_info": {
   "codemirror_mode": {
    "name": "ipython",
    "version": 3
   },
   "file_extension": ".py",
   "mimetype": "text/x-python",
   "name": "python",
   "nbconvert_exporter": "python",
   "pygments_lexer": "ipython3",
   "version": "3.13.7"
  }
 },
 "nbformat": 4,
 "nbformat_minor": 5
}
